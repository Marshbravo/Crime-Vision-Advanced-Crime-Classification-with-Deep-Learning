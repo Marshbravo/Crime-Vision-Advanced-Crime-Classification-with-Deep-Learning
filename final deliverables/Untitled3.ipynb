{
  "nbformat": 4,
  "nbformat_minor": 0,
  "metadata": {
    "colab": {
      "provenance": [],
      "toc_visible": true
    },
    "kernelspec": {
      "name": "python3",
      "display_name": "Python 3"
    },
    "language_info": {
      "name": "python"
    }
  },
  "cells": [
    {
      "cell_type": "markdown",
      "source": [],
      "metadata": {
        "id": "pkdd9d42_5W2"
      }
    },
    {
      "cell_type": "code",
      "execution_count": 16,
      "metadata": {
        "id": "47eAxQBr-gWP"
      },
      "outputs": [],
      "source": [
        " training_data_path = 'path/to/training/folder'\n",
        "testing_data_path = 'path/to/testing/folder'"
      ]
    },
    {
      "cell_type": "code",
      "source": [
        "import pandas as pd \n",
        "import numpy as np\n",
        "import matplotlib.pyplot as plt\n",
        "import seaborn as sns\n",
        "import plotly.express as px\n",
        "import os\n",
        "\n",
        "import tensorflow as tf\n",
        "from tensorflow.keras.preprocessing import image_dataset_from_directory\n",
        "\n",
        "from tensorflow.keras.applications import DenseNet121\n",
        "from sklearn.preprocessing import LabelBinarizer\n",
        "from tensorflow.keras.layers import Dense, GlobalAveragePooling2D, Dropout,MaxPooling2D , Conv2D,Flatten\n",
        "from tensorflow.keras.models import Sequential\n",
        "\n",
        "\n",
        "\n",
        "from IPython.display import clear_output\n",
        "import warnings\n",
        "warnings.filterwarnings('ignore')"
      ],
      "metadata": {
        "id": "-AY7NukHQBfE"
      },
      "execution_count": 30,
      "outputs": []
    },
    {
      "cell_type": "code",
      "source": [
        "train_dir = \"/content/Train\"\n",
        "test_dir = \"/content/Test\"\n",
        "\n",
        "\n",
        "SEED = 12\n",
        "IMG_HEIGHT = 64\n",
        "IMG_WIDTH = 64\n",
        "BATCH_SIZE = 128\n",
        "EPOCHS = 5\n",
        "LR = 0.00003"
      ],
      "metadata": {
        "id": "MK77NfE5WcM7"
      },
      "execution_count": 32,
      "outputs": []
    },
    {
      "cell_type": "code",
      "source": [
        "from tensorflow.keras.preprocessing.image import ImageDataGenerator\n",
        "\n",
        "# Create an instance of the ImageDataGenerator\n",
        "data_generator = ImageDataGenerator(\n",
        "    rescale=1./255,  # Rescale pixel values to [0, 1]\n",
        "    rotation_range=20,  # Randomly rotate images by 20 degrees\n",
        "    width_shift_range=0.2,  # Randomly shift images horizontally by 20% of the width\n",
        "    height_shift_range=0.2,  # Randomly shift images vertically by 20% of the height\n",
        "    shear_range=0.2,  # Apply shear transformation with a shear intensity of 20%\n",
        "    zoom_range=0.2,  # Randomly zoom images by up to 20%\n",
        "    horizontal_flip=True,  # Randomly flip images horizontally\n",
        "    vertical_flip=False  # Do not flip images vertically\n",
        ")\n",
        "\n",
        "# Load the training data from the directory using the data generator\n",
        "train_data = data_generator.flow_from_directory(\n",
        "    directory='path/to/train_data_directory',\n",
        "    target_size=(224, 224),\n",
        "    batch_size=64,\n",
        "    class_mode='categorical',\n",
        "    shuffle=True\n",
        ")\n"
      ],
      "metadata": {
        "id": "KolCET51Zo_X"
      },
      "execution_count": null,
      "outputs": []
    },
    {
      "cell_type": "markdown",
      "source": [],
      "metadata": {
        "id": "A4SOBofBZAGB"
      }
    },
    {
      "cell_type": "code",
      "source": [
        "from tensorflow.keras.preprocessing.image import ImageDataGenerator\n",
        "\n",
        "# Set the parameters\n",
        "data_directory = 'path/to/data/directory'\n",
        "batch_size = 64\n",
        "target_size = (224, 224)\n",
        "learning_rate = 0.001\n",
        "seed = 42\n",
        "\n",
        "# Create an instance of the ImageDataGenerator\n",
        "data_generator = ImageDataGenerator(\n",
        "    rescale=1./255,  # Rescale pixel values to [0, 1]\n",
        "    rotation_range=20,\n",
        "    width_shift_range=0.2,\n",
        "    height_shift_range=0.2,\n",
        "    shear_range=0.2,\n",
        "    zoom_range=0.2,\n",
        "    horizontal_flip=True,\n",
        "    vertical_flip=False\n",
        ")\n",
        "\n",
        "# Load the training data from the directory using the data generator\n",
        "train_data = data_generator.flow_from_directory(\n",
        "    directory=data_directory,\n",
        "    target_size=target_size,\n",
        "    batch_size=batch_size,\n",
        "    class_mode='categorical',\n",
        "    shuffle=True,\n",
        "    seed=seed\n",
        ")\n",
        "\n",
        "# Configure learning rate and seed\n",
        "learning_rate = 0.001\n",
        "seed = 42\n",
        "\n",
        "# Set the random seed for reproducibility\n",
        "np.random.seed(seed)\n",
        "tf.random.set_seed(seed)\n",
        "\n",
        "# Create and compile your deep learning model\n",
        "model = create_model()  # Replace create_model() with your actual model creation code\n",
        "model.compile(optimizer=tf.keras.optimizers.Adam(learning_rate=learning_rate),\n",
        "              loss='categorical_crossentropy',\n",
        "              metrics=['accuracy'])\n",
        "\n",
        "# Train your model\n",
        "model.fit(train_data, epochs=10)  # Replace epochs=10 with the desired number of training epochs\n"
      ],
      "metadata": {
        "id": "0qRQVI89ZvZn"
      },
      "execution_count": null,
      "outputs": []
    },
    {
      "cell_type": "code",
      "source": [
        "import os\n",
        "\n",
        "crimes = {}\n",
        "train = test = 0\n",
        "\n",
        "# Assuming crime_types is a list of different crime types\n",
        "crime_types = ['burglary', 'robbery', 'assault']\n",
        "\n",
        "for clss in crime_types:\n",
        "    train_dir = 'path/to/train_data_directory'\n",
        "    test_dir = 'path/to/test_data_directory'\n",
        "    \n",
        "    num = len(os.listdir(os.path.join(train_dir, clss)))\n",
        "    train += num\n",
        "    \n",
        "    test += len(os.listdir(os.path.join(test_dir, clss)))\n",
        "    \n",
        "    crimes[clss] = num\n",
        "\n",
        "print(\"Total training samples:\", train)\n",
        "print(\"Total testing samples:\", test)\n",
        "print(\"Crimes dictionary:\", crimes)\n"
      ],
      "metadata": {
        "id": "Be1i0rEGai-B"
      },
      "execution_count": null,
      "outputs": []
    },
    {
      "cell_type": "code",
      "source": [
        "import matplotlib.pyplot as plt\n",
        "\n",
        "# Assuming train and test are the variables containing the counts\n",
        "train = 1000\n",
        "test = 500\n",
        "\n",
        "# Pie chart data\n",
        "labels = ['Train', 'Test']\n",
        "sizes = [train, test]\n",
        "colors = ['#FFA500', '#008000']  # Orange and green\n",
        "\n",
        "# Create a figure with specified size\n",
        "plt.figure(figsize=(8, 5))\n",
        "\n",
        "# Generate the pie chart\n",
        "plt.pie(sizes, autopct='%.1f%%', explode=[0.1, 0], labels=labels, pctdistance=0.5, colors=colors)\n",
        "\n",
        "# Add a title to the pie chart\n",
        "plt.title(\"Train and Test Images\", fontsize=18)\n",
        "\n",
        "# Display the chart\n",
        "plt.show()\n"
      ],
      "metadata": {
        "id": "5XMzSmUjcTrT"
      },
      "execution_count": null,
      "outputs": []
    },
    {
      "cell_type": "code",
      "source": [
        "from tensorflow.keras.preprocessing.image import ImageDataGenerator\n",
        "\n",
        "# Specify the directory where the images are located\n",
        "directory = '/path/to/directory'\n",
        "\n",
        "# Specify the class labels for the images\n",
        "labels = ['class1', 'class2', 'class3']\n",
        "\n",
        "# Specify the batch size\n",
        "batch_size = 32\n",
        "\n",
        "# Specify the image size to which the images should be resized\n",
        "image_size = (224, 224)  # Example size\n",
        "\n",
        "# Create an instance of the ImageDataGenerator\n",
        "datagen = ImageDataGenerator()\n",
        "\n",
        "# Generate the data generator object\n",
        "data_generator = datagen.flow_from_directory(\n",
        "    directory=directory,\n",
        "    target_size=image_size,\n",
        "    batch_size=batch_size,\n",
        "    class_mode='categorical',  # Set to 'binary' for binary classification\n",
        "    classes=labels\n",
        ")\n"
      ],
      "metadata": {
        "id": "FTSERlIoc8be"
      },
      "execution_count": null,
      "outputs": []
    },
    {
      "cell_type": "code",
      "source": [
        "from tensorflow.keras.applications.densenet import DenseNet121\n",
        "from tensorflow.keras.layers import GlobalAveragePooling2D, Dense\n",
        "from tensorflow.keras.models import Model\n",
        "\n",
        "def create_densenet_model(input_shape, include_top=True, weights='imagenet', threshold=149):\n",
        "    base_model = DenseNet121(include_top=include_top, weights=weights, input_shape=input_shape)\n",
        "    \n",
        "    # Set the threshold for the layers to be frozen\n",
        "    for layer in base_model.layers:\n",
        "        if int(layer.name.split('_')[-1]) < threshold:\n",
        "            layer.trainable = False\n",
        "    \n",
        "    # Add custom layers on top of the base model\n",
        "    x = base_model.output\n",
        "    x = GlobalAveragePooling2D()(x)\n",
        "    x = Dense(256, activation='relu')(x)\n",
        "    output = Dense(num_classes, activation='softmax')(x)  # Replace `num_classes` with the number of output classes\n",
        "    \n",
        "    # Create the final model\n",
        "    model = Model(inputs=base_model.input, outputs=output)\n",
        "    \n",
        "    return model\n"
      ],
      "metadata": {
        "id": "FNLYg8DdduSA"
      },
      "execution_count": null,
      "outputs": []
    },
    {
      "cell_type": "code",
      "source": [
        "from tensorflow.keras.applications import DenseNet121\n",
        "from tensorflow.keras.models import Model\n",
        "\n",
        "def create_transfer_model(input_shape, num_classes, include_top=False, weights='imagenet', freeze_layers=0):\n",
        "    # Load the pre-trained DenseNet121 model\n",
        "    base_model = DenseNet121(\n",
        "        include_top=include_top,\n",
        "        weights=weights,\n",
        "        input_shape=input_shape\n",
        "    )\n",
        "    \n",
        "    # Freeze the specified number of layers\n",
        "    if freeze_layers > 0:\n",
        "        for layer in base_model.layers[:freeze_layers]:\n",
        "            layer.trainable = False\n",
        "    \n",
        "    # Add a new fully connected layer for classification\n",
        "    x = base_model.output\n",
        "    x = GlobalAveragePooling2D()(x)\n",
        "    x = Dense(256, activation='relu')(x)\n",
        "    x = Dropout(0.5)(x)\n",
        "    predictions = Dense(num_classes, activation='softmax')(x)\n",
        "    \n",
        "    # Create the transfer learning model\n",
        "    transfer_model = Model(inputs=base_model.input, outputs=predictions)\n",
        "    \n",
        "    return transfer_model\n"
      ],
      "metadata": {
        "id": "Q9sqFUegeFmO"
      },
      "execution_count": null,
      "outputs": []
    },
    {
      "cell_type": "code",
      "source": [
        "from tensorflow.keras.applications import DenseNet121\n",
        "from tensorflow.keras.models import Model\n",
        "from tensorflow.keras.layers import GlobalAveragePooling2D, Dense, Dropout\n",
        "\n",
        "def create_transfer_model(input_shape, num_classes, include_top=False, weights='imagenet', freeze_layers=0):\n",
        "    # Load the pre-trained DenseNet121 model\n",
        "    base_model = DenseNet121(\n",
        "        include_top=include_top,\n",
        "        weights=weights,\n",
        "        input_shape=input_shape\n",
        "    )\n",
        "    \n",
        "    # Freeze the specified number of layers\n",
        "    if freeze_layers > 0:\n",
        "        for layer in base_model.layers[:freeze_layers]:\n",
        "            layer.trainable = False\n",
        "    \n",
        "    # Add a global average pooling layer\n",
        "    x = base_model.output\n",
        "    x = GlobalAveragePooling2D()(x)\n",
        "    \n",
        "    # Add dense layers\n",
        "    x = Dense(512, activation='relu')(x)\n",
        "    x = Dropout(0.5)(x)\n",
        "    x = Dense(256, activation='relu')(x)\n",
        "    x = Dropout(0.5)(x)\n",
        "    \n",
        "    # Add the output layer\n",
        "    predictions = Dense(num_classes, activation='softmax')(x)\n",
        "    \n",
        "    # Create the transfer learning model\n",
        "    transfer_model = Model(inputs=base_model.input, outputs=predictions)\n",
        "    \n",
        "    return transfer_model\n"
      ],
      "metadata": {
        "id": "G52V5tqtevEa"
      },
      "execution_count": null,
      "outputs": []
    },
    {
      "cell_type": "code",
      "source": [
        "from tensorflow.keras.optimizers import Adam\n",
        "\n",
        "def configure_learning(model, learning_rate, loss_function, metrics):\n",
        "    optimizer = Adam(learning_rate=learning_rate)  # Set the learning rate for the optimizer\n",
        "    \n",
        "    model.compile(optimizer=optimizer, loss=loss_function, metrics=metrics)\n"
      ],
      "metadata": {
        "id": "KabKK78OfCKo"
      },
      "execution_count": null,
      "outputs": []
    },
    {
      "cell_type": "code",
      "source": [
        "learning_rate = 0.001\n",
        "loss_function = 'categorical_crossentropy'\n",
        "metrics = ['accuracy']\n",
        "\n",
        "configure_learning(model, learning_rate, loss_function, metrics)\n"
      ],
      "metadata": {
        "id": "XXggRgYhfFjM"
      },
      "execution_count": null,
      "outputs": []
    },
    {
      "cell_type": "markdown",
      "source": [
        "traning the mode "
      ],
      "metadata": {
        "id": "zkxkephvfhwb"
      }
    },
    {
      "cell_type": "code",
      "source": [
        "def train_model(model, train_dataset, validation_dataset, epochs):\n",
        "    history = model.fit(\n",
        "        train_dataset,\n",
        "        validation_data=validation_dataset,\n",
        "        epochs=epochs\n",
        "    )\n",
        "    return history\n"
      ],
      "metadata": {
        "id": "zevUfyFffhSO"
      },
      "execution_count": null,
      "outputs": []
    },
    {
      "cell_type": "code",
      "source": [
        "epochs = 10\n",
        "history = train_model(model, train_dataset, validation_dataset, epochs)\n"
      ],
      "metadata": {
        "id": "seldNamHfsJ3"
      },
      "execution_count": null,
      "outputs": []
    },
    {
      "cell_type": "markdown",
      "source": [
        "save the model\n"
      ],
      "metadata": {
        "id": "KTOwRSblfyZH"
      }
    },
    {
      "cell_type": "code",
      "source": [
        "def save_model(model, save_path):\n",
        "    model.save(save_path)\n"
      ],
      "metadata": {
        "id": "wHINQZ9Of5T0"
      },
      "execution_count": null,
      "outputs": []
    },
    {
      "cell_type": "code",
      "source": [
        "save_path = 'path/to/save/model.h5'\n",
        "save_model(model, save_path)\n"
      ],
      "metadata": {
        "id": "ctuO9s0egM_5"
      },
      "execution_count": null,
      "outputs": []
    },
    {
      "cell_type": "code",
      "source": [
        "from tensorflow.keras.models import load_model\n",
        "\n",
        "loaded_model = load_model(save_path)\n"
      ],
      "metadata": {
        "id": "J6Ic1W8JgTj6"
      },
      "execution_count": null,
      "outputs": []
    },
    {
      "cell_type": "markdown",
      "source": [
        "test the model"
      ],
      "metadata": {
        "id": "cuziXp69gUh7"
      }
    },
    {
      "cell_type": "code",
      "source": [
        "def test_model(model, test_dataset):\n",
        "    results = model.evaluate(test_dataset)\n",
        "    return results\n"
      ],
      "metadata": {
        "id": "npOvPYwygbZI"
      },
      "execution_count": null,
      "outputs": []
    },
    {
      "cell_type": "code",
      "source": [
        "test_results = test_model(model, test_dataset)\n"
      ],
      "metadata": {
        "id": "EB_0la-mgnkn"
      },
      "execution_count": null,
      "outputs": []
    },
    {
      "cell_type": "code",
      "source": [
        "predictions = model.predict(test_dataset)\n"
      ],
      "metadata": {
        "id": "5w-AQQKngsPe"
      },
      "execution_count": null,
      "outputs": []
    },
    {
      "cell_type": "markdown",
      "source": [
        " application building"
      ],
      "metadata": {
        "id": "1awmlysmgvlq"
      }
    },
    {
      "cell_type": "markdown",
      "source": [
        "building HDML pages"
      ],
      "metadata": {
        "id": "eM-7DOPShER5"
      }
    },
    {
      "cell_type": "code",
      "source": [
        "from html import *\n",
        "\n",
        "def create_html_page():\n",
        "    # Create the HTML structure\n",
        "    doc = html(\n",
        "        head(\n",
        "            title(\"My HTML Page\")\n",
        "        ),\n",
        "        body(\n",
        "            h1(\"Welcome to My HTML Page\"),\n",
        "            p(\"This is a sample HTML page created using Python.\"),\n",
        "            p(\"Here are some example elements:\")\n",
        "        )\n",
        "    )\n",
        "\n",
        "    # Convert the HTML structure to a string\n",
        "    html_string = str(doc)\n",
        "\n",
        "    # Save the HTML string to a file\n",
        "    with open(\"index.html\", \"w\") as file:\n",
        "        file.write(html_string)\n"
      ],
      "metadata": {
        "id": "sBbxWd2qg6Q_"
      },
      "execution_count": null,
      "outputs": []
    },
    {
      "cell_type": "markdown",
      "source": [
        "build flack code "
      ],
      "metadata": {
        "id": "thSymvaehsfx"
      }
    },
    {
      "cell_type": "code",
      "source": [
        "from flask import Flask, render_template\n",
        "\n",
        "app = Flask(__name__)\n",
        "\n",
        "@app.route('/')\n",
        "def index():\n",
        "    return render_template('index.html')\n",
        "\n",
        "if __name__ == '__main__':\n",
        "    app.run()\n"
      ],
      "metadata": {
        "id": "2ldXqCwnhvlC"
      },
      "execution_count": null,
      "outputs": []
    },
    {
      "cell_type": "code",
      "source": [
        "<!DOCTYPE html>\n",
        "<html>\n",
        "<head>\n",
        "    <title>My Flask App</title>\n",
        "</head>\n",
        "<body>\n",
        "    <h1>Welcome to My Flask App</h1>\n",
        "    <p>This is a sample Flask application.</p>\n",
        "</body>\n",
        "</html>\n"
      ],
      "metadata": {
        "id": "TBYb7A9WiCZx"
      },
      "execution_count": null,
      "outputs": []
    },
    {
      "cell_type": "markdown",
      "source": [
        "run the application"
      ],
      "metadata": {
        "id": "vfm7aBbuiH8l"
      }
    },
    {
      "cell_type": "code",
      "source": [
        "python app.py\n"
      ],
      "metadata": {
        "id": "y6FUMpcIiM5K"
      },
      "execution_count": null,
      "outputs": []
    },
    {
      "cell_type": "code",
      "source": [
        " * Running on http://127.0.0.1:5000/ (Press CTRL+C to quit)\n"
      ],
      "metadata": {
        "id": "GSmIcI_UiZWH"
      },
      "execution_count": null,
      "outputs": []
    },
    {
      "cell_type": "markdown",
      "source": [
        "train the model on ibm"
      ],
      "metadata": {
        "id": "UUvyFMrkicQm"
      }
    },
    {
      "cell_type": "markdown",
      "source": [
        "register for ibm cloud"
      ],
      "metadata": {
        "id": "eJ8hSzNWimlF"
      }
    },
    {
      "cell_type": "code",
      "source": [],
      "metadata": {
        "id": "_nQzQYHhi0fm"
      },
      "execution_count": null,
      "outputs": []
    },
    {
      "cell_type": "markdown",
      "source": [
        "Ideation Phase\n"
      ],
      "metadata": {
        "id": "V1kfv-Tw-v31"
      }
    },
    {
      "cell_type": "markdown",
      "source": [
        "Define The Problem Statement"
      ],
      "metadata": {
        "id": "H1WTYHDe-1e_"
      }
    }
  ]
}